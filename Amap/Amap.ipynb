{
 "cells": [
  {
   "cell_type": "markdown",
   "metadata": {},
   "source": [
    "## 高德地图行政区域查询"
   ]
  },
  {
   "cell_type": "code",
   "execution_count": null,
   "metadata": {},
   "outputs": [],
   "source": [
    "from flask import Flask, render_template, request\n",
    "import requests\n",
    "\n",
    "app = Flask(__name__)\n",
    "\n",
    "def district(keywords,subdistrict)->str:\n",
    "    parameters = {'keywords': keywords,'subdistrict':subdistrict,'key': '953be07c0895088279ef0c9d7a3532b6'}\n",
    "    base = 'https://restapi.amap.com/v3/config/district?parameters'\n",
    "    response = requests.get(base, parameters)\n",
    "    answer = response.json()\n",
    "    return str(answer['districts'][0]['districts'])\n",
    "\n",
    "@app.route('/search4', methods=['POST'])\n",
    "def do_search() -> 'html':\n",
    "    phrase = request.form['phrase']\n",
    "    letters = request.form['letters']\n",
    "    title = '这是查询结果:'\n",
    "    results = district(phrase, letters)\n",
    "    return render_template('results.html',\n",
    "                           the_title=title,\n",
    "                           the_phrase=phrase,\n",
    "                           the_letters=letters,\n",
    "                           the_results=results,)\n",
    "\n",
    "@app.route('/')\n",
    "@app.route('/entry')\n",
    "def entry_page() -> 'html':\n",
    "    return render_template('entry.html',\n",
    "                           the_title='欢迎使用高德地图行政区域查询网站')\n",
    "\n",
    "\n",
    "if __name__ == '__main__':\n",
    "    app.run(debug=True)"
   ]
  },
  {
   "cell_type": "code",
   "execution_count": 1,
   "metadata": {},
   "outputs": [
    {
     "name": "stdout",
     "output_type": "stream",
     "text": [
      "10.51.7.75\n"
     ]
    }
   ],
   "source": [
    "import socket\n",
    "\n",
    "# 获取本机计算机名称\n",
    "hostname = socket.gethostname()\n",
    "# 获取本机ip\n",
    "ip = socket.gethostbyname(hostname)\n",
    "print(ip)"
   ]
  },
  {
   "cell_type": "code",
   "execution_count": 10,
   "metadata": {},
   "outputs": [],
   "source": [
    "import requests\n",
    "def district(keywords,subdistrict=None)->str:\n",
    "    parameters = {'keywords': keywords,'subdistrict':subdistrict,'key': '953be07c0895088279ef0c9d7a3532b6'}\n",
    "    base = 'https://restapi.amap.com/v3/config/district?parameters'\n",
    "    response = requests.get(base, parameters)\n",
    "    answer = response.json()\n",
    "    return str(answer['districts'][0]['districts'])"
   ]
  },
  {
   "cell_type": "code",
   "execution_count": 11,
   "metadata": {},
   "outputs": [],
   "source": [
    "district('广东')"
   ]
  },
  {
   "cell_type": "code",
   "execution_count": null,
   "metadata": {},
   "outputs": [],
   "source": []
  },
  {
   "cell_type": "code",
   "execution_count": 15,
   "metadata": {},
   "outputs": [],
   "source": [
    "import jsonpath\n",
    "import requests\n",
    "def district(keywords,subdistrict=None)->str:\n",
    "    parameters = {'keywords': keywords,'subdistrict':subdistrict,'key': '953be07c0895088279ef0c9d7a3532b6'}\n",
    "    base = 'https://restapi.amap.com/v3/config/district?parameters'\n",
    "    response = requests.get(base, parameters)\n",
    "    answer = response.json()\n",
    "    return str(jsonpath.jsonpath(answer,'$..name') )"
   ]
  },
  {
   "cell_type": "code",
   "execution_count": 16,
   "metadata": {},
   "outputs": [
    {
     "data": {
      "text/plain": [
       "\"['广东省', '汕头市', '佛山市', '珠海市', '江门市', '湛江市', '惠州市', '肇庆市', '汕尾市', '茂名市', '深圳市', '阳江市', '潮州市', '韶关市', '梅州市', '河源市', '清远市', '东莞市', '云浮市', '揭阳市', '广州市', '中山市', '东沙群岛']\""
      ]
     },
     "execution_count": 16,
     "metadata": {},
     "output_type": "execute_result"
    }
   ],
   "source": [
    "district('广东')"
   ]
  },
  {
   "cell_type": "code",
   "execution_count": null,
   "metadata": {},
   "outputs": [],
   "source": []
  }
 ],
 "metadata": {
  "kernelspec": {
   "display_name": "Python 3",
   "language": "python",
   "name": "python3"
  },
  "language_info": {
   "codemirror_mode": {
    "name": "ipython",
    "version": 3
   },
   "file_extension": ".py",
   "mimetype": "text/x-python",
   "name": "python",
   "nbconvert_exporter": "python",
   "pygments_lexer": "ipython3",
   "version": "3.6.1"
  }
 },
 "nbformat": 4,
 "nbformat_minor": 2
}
